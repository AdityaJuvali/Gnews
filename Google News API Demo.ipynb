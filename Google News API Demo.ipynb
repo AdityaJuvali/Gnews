{
 "cells": [
  {
   "cell_type": "code",
   "execution_count": 1,
   "metadata": {},
   "outputs": [],
   "source": [
    "# Import library\n",
    "from Gnews import Gnews"
   ]
  },
  {
   "cell_type": "code",
   "execution_count": 2,
   "metadata": {},
   "outputs": [],
   "source": [
    "# Create instance and search\n",
    "gn = Gnews()"
   ]
  },
  {
   "cell_type": "code",
   "execution_count": 3,
   "metadata": {},
   "outputs": [
    {
     "name": "stdout",
     "output_type": "stream",
     "text": [
      "Pinging address:  https://www.google.com/search?q=PM+Modi+Speech&tbm=nws&start=0\n",
      "\n",
      "The top 10 news article found...\n",
      "1) https://scroll.in/article/961774/our-vibrant-demography-is-walking-down-the-highway-modis-self-reliance-speech-draws-barbs\n",
      "2) https://www.cnbctv18.com/economy/key-highlights-from-pm-modi-speech-rs-20-lakh-crore-package-and-a-self-reliant-india-5904781.htm\n",
      "3) https://www.ndtv.com/india-news/coronavirus-full-text-of-pm-narendra-modis-speech-announcing-covid-19-lockdown-4-2227775\n",
      "4) https://www.livemint.com/news/india/193-mn-viewers-tuned-in-to-watch-pm-modi-s-speech-on-stimulus-package-11589476696128.html\n",
      "5) https://indianexpress.com/article/opinion/columns/post-coronavirus-world-pm-modi-economic-relief-package-nirmala-sitaraman-pms-woods-fms-trees-6408584/\n",
      "6) https://www.india.com/news/india/pm-modis-speech-on-lockdown-bjp-calls-it-welcome-move-congress-says-deeply-disappointing-read-how-politicians-reacted-4027369/\n",
      "7) https://timesofindia.indiatimes.com/india/pm-raises-stimulus-size-to-10-of-gdp/articleshow/75705658.cms\n",
      "8) https://www.mumbailive.com/en/society/memes-on-twitter-and-social-media-after-narendra-modi-speech-on-aatmanirbhar-and-special-economic-package-on-may-12-49532\n",
      "9) https://www.hindustantimes.com/india-news/from-rs-20-lakh-crore-economic-package-to-lockdown-4-key-points-from-pm-modi-s-speech/story-sNqTCwoYUucKvvvR2qDoNO.html\n",
      "10) https://theprint.in/opinion/being-indian/modi-atmanirbhar-india-only-going-local-wont-help/421341/\n"
     ]
    }
   ],
   "source": [
    "# News search without date range\n",
    "news10 = gn.search('PM Modi Speech')\n",
    "\n",
    "print('\\nThe top 10 news article found...')\n",
    "for i in range(len(news10)):\n",
    "    print(str(i+1)+\")\", news10[i])"
   ]
  },
  {
   "cell_type": "code",
   "execution_count": 4,
   "metadata": {},
   "outputs": [
    {
     "name": "stdout",
     "output_type": "stream",
     "text": [
      "Pinging address:  https://www.google.com/search?q=PM+Modi+Speech&tbs=cdr%3A1%2Ccd_min%3A5%2F13%2F2020%2Ccd_max%3A&tbm=nws\n",
      "\n",
      "The top 10 news article found...\n",
      "1) https://indianexpress.com/article/opinion/columns/post-coronavirus-world-pm-modi-economic-relief-package-nirmala-sitaraman-pms-woods-fms-trees-6408584/\n",
      "2) https://thewire.in/politics/opposition-reaction-pm-relief-package-speech\n",
      "3) https://mediatodaychronicle.com/most-important-notes-from-pm-modi-speech-everything-you-need-to-know/\n",
      "4) https://www.afaqs.com/news/social-media/brands-show-off-swadeshi-wares-after-pm-modis-speech-about-self-reliance\n",
      "5) https://www.moneycontrol.com/news/business/economy/nirmala-sitharaman-speech-live-updates-20-lakh-crore-economic-package-gdp-india-finance-minister-narendra-modi-coronavirus-lockdown-4-latest-news-5260031.html\n",
      "6) https://economictimes.indiatimes.com/news/economy/policy/nirmala-sitharaman-live-speech-updates/liveblog/75713061.cms\n",
      "7) https://www.livemint.com/news/india/193-mn-viewers-tuned-in-to-watch-pm-modi-s-speech-on-stimulus-package-11589476696128.html\n",
      "8) https://theprint.in/trawling-twitter/pm-speech-sitharaman-confused-anand-mahindra-sleepless-what-yashwant-sinha-admires/420565/\n",
      "9) https://kashmirobserver.net/2020/05/13/8pm-package-when-will-it-be-actually-distributed-netizens-ask/\n",
      "10) https://www.opindia.com/2020/05/aatmanirbhar-pm-modis-call-for-indias-self-reliance-makes-netizens-unleash-their-creativity/\n"
     ]
    }
   ],
   "source": [
    "# News search with start date\n",
    "news10 = gn.search('PM Modi Speech', startdate = '2020-05-13')\n",
    "\n",
    "print('\\nThe top 10 news article found...')\n",
    "for i in range(len(news10)):\n",
    "    print(str(i+1)+\")\", news10[i])"
   ]
  },
  {
   "cell_type": "markdown",
   "metadata": {},
   "source": [
    "#### Similarly you have a choice to put an end date. The search can also have both start and end date."
   ]
  },
  {
   "cell_type": "markdown",
   "metadata": {},
   "source": [
    "## Happy Gnews search!!!"
   ]
  }
 ],
 "metadata": {
  "kernelspec": {
   "display_name": "Python 3",
   "language": "python",
   "name": "python3"
  },
  "language_info": {
   "codemirror_mode": {
    "name": "ipython",
    "version": 3
   },
   "file_extension": ".py",
   "mimetype": "text/x-python",
   "name": "python",
   "nbconvert_exporter": "python",
   "pygments_lexer": "ipython3",
   "version": "3.7.7"
  }
 },
 "nbformat": 4,
 "nbformat_minor": 4
}
